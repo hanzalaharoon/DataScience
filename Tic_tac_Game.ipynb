{
 "cells": [
  {
   "cell_type": "code",
   "execution_count": 1,
   "id": "f3f29310-1a8c-4407-86af-5707f967e42d",
   "metadata": {},
   "outputs": [
    {
     "name": "stdout",
     "output_type": "stream",
     "text": [
      "welcome to tic tac game\n",
      "0 | 1 | 2\n",
      "--|---|--\n",
      "3 | 4 | 5\n",
      "--|---|--\n",
      "6 | 7 | 8\n",
      "X,s chance\n"
     ]
    },
    {
     "name": "stdin",
     "output_type": "stream",
     "text": [
      "please enter a value (0-8) 0\n"
     ]
    },
    {
     "name": "stdout",
     "output_type": "stream",
     "text": [
      "x | 1 | 2\n",
      "--|---|--\n",
      "3 | 4 | 5\n",
      "--|---|--\n",
      "6 | 7 | 8\n",
      "0,s chance\n"
     ]
    },
    {
     "name": "stdin",
     "output_type": "stream",
     "text": [
      "please enter a value (0-8) 6\n"
     ]
    },
    {
     "name": "stdout",
     "output_type": "stream",
     "text": [
      "x | 1 | 2\n",
      "--|---|--\n",
      "3 | 4 | 5\n",
      "--|---|--\n",
      "0 | 7 | 8\n",
      "X,s chance\n"
     ]
    },
    {
     "name": "stdin",
     "output_type": "stream",
     "text": [
      "please enter a value (0-8) 2\n"
     ]
    },
    {
     "name": "stdout",
     "output_type": "stream",
     "text": [
      "x | 1 | x\n",
      "--|---|--\n",
      "3 | 4 | 5\n",
      "--|---|--\n",
      "0 | 7 | 8\n",
      "0,s chance\n"
     ]
    },
    {
     "name": "stdin",
     "output_type": "stream",
     "text": [
      "please enter a value (0-8) 8\n"
     ]
    },
    {
     "name": "stdout",
     "output_type": "stream",
     "text": [
      "x | 1 | x\n",
      "--|---|--\n",
      "3 | 4 | 5\n",
      "--|---|--\n",
      "0 | 7 | 0\n",
      "X,s chance\n"
     ]
    },
    {
     "name": "stdin",
     "output_type": "stream",
     "text": [
      "please enter a value (0-8) 7\n"
     ]
    },
    {
     "name": "stdout",
     "output_type": "stream",
     "text": [
      "x | 1 | x\n",
      "--|---|--\n",
      "3 | 4 | 5\n",
      "--|---|--\n",
      "0 | x | 0\n",
      "0,s chance\n"
     ]
    },
    {
     "name": "stdin",
     "output_type": "stream",
     "text": [
      "please enter a value (0-8) 1\n"
     ]
    },
    {
     "name": "stdout",
     "output_type": "stream",
     "text": [
      "x | 0 | x\n",
      "--|---|--\n",
      "3 | 4 | 5\n",
      "--|---|--\n",
      "0 | x | 0\n",
      "X,s chance\n"
     ]
    },
    {
     "name": "stdin",
     "output_type": "stream",
     "text": [
      "please enter a value (0-8) 3\n"
     ]
    },
    {
     "name": "stdout",
     "output_type": "stream",
     "text": [
      "x | 0 | x\n",
      "--|---|--\n",
      "x | 4 | 5\n",
      "--|---|--\n",
      "0 | x | 0\n",
      "0,s chance\n"
     ]
    },
    {
     "name": "stdin",
     "output_type": "stream",
     "text": [
      "please enter a value (0-8) 5\n"
     ]
    },
    {
     "name": "stdout",
     "output_type": "stream",
     "text": [
      "x | 0 | x\n",
      "--|---|--\n",
      "x | 4 | 0\n",
      "--|---|--\n",
      "0 | x | 0\n",
      "X,s chance\n"
     ]
    },
    {
     "name": "stdin",
     "output_type": "stream",
     "text": [
      "please enter a value (0-8) 4\n"
     ]
    },
    {
     "name": "stdout",
     "output_type": "stream",
     "text": [
      "x | 0 | x\n",
      "--|---|--\n",
      "x | x | 0\n",
      "--|---|--\n",
      "0 | x | 0\n",
      "It's a draw!\n"
     ]
    }
   ],
   "source": [
    "def sum(a, b, c):\n",
    "    return a + b + c\n",
    "    \n",
    "def printBoard(xState, zState):\n",
    "    zero = 'x' if xState[0] else ('0' if zState[0] else 0)\n",
    "    one = 'x' if xState[1] else ('0' if zState[1] else 1)\n",
    "    two = 'x' if xState[2] else ('0' if zState[2] else 2)\n",
    "    three = 'x' if xState[3] else ('0' if zState[3] else 3)\n",
    "    four = 'x' if xState[4] else ('0' if zState[4] else 4)\n",
    "    five = 'x' if xState[5] else ('0' if zState[5] else 5)\n",
    "    six = 'x' if xState[6] else ('0' if zState[6] else 6)\n",
    "    seven = 'x' if xState[7] else ('0' if zState[7] else 7)\n",
    "    eight = 'x' if xState[8] else ('0' if zState[8] else 8)\n",
    "    print(f\"{zero} | {one} | {two}\")\n",
    "    print(f\"--|---|--\")\n",
    "    print(f\"{three} | {four} | {five}\")\n",
    "    print(f\"--|---|--\")\n",
    "    print(f\"{six} | {seven} | {eight}\")\n",
    "\n",
    "def GameWin(xState, zState):\n",
    "    xwins = [[0, 1, 2], [3, 4, 5], [6, 7, 8], \n",
    "             [0, 3, 6], [1, 4, 7], [2, 5, 8],\n",
    "             [0, 4, 8], [2, 4, 6]]\n",
    "    for win in xwins:\n",
    "            if(sum(xState[win[0]], xState[win[1]], xState[win[2]] ) == 3):\n",
    "                print(\"X won the match\")\n",
    "                return 1\n",
    "            if (sum(zState[win[0]], zState[win[1]], zState[win[2]] ) == 3):\n",
    "                 print(\"0 won the match\")\n",
    "                 return 0\n",
    "    return -1\n",
    "\n",
    "def isBoardFull(xState, zState):\n",
    "    return all(xState[i] == 1 or zState[i] == 1 for i in range(9))\n",
    "    \n",
    "\n",
    "if __name__ ==\"__main__\" :\n",
    "    \n",
    "    xState = [0,0,0,0,0,0,0,0,0]\n",
    "    zState = [0,0,0,0,0,0,0,0,0]\n",
    "    turn = 1\n",
    "    print(\"welcome to tic tac game\")\n",
    "    while(True):\n",
    "        printBoard(xState, zState)\n",
    "        if (turn==1):\n",
    "            print(\"X,s chance\")\n",
    "            value = int(input(\"please enter a value (0-8)\"))\n",
    "            xState[value] = 1\n",
    "        else:\n",
    "            print(\"0,s chance\")\n",
    "            value = int(input(\"please enter a value (0-8)\"))\n",
    "            zState[value] = 1\n",
    "        cwin = GameWin(xState, zState)\n",
    "        if (cwin != -1):\n",
    "            print(\"match over\")     \n",
    "            break\n",
    "\n",
    "        \n",
    "        if isBoardFull(xState, zState):\n",
    "            printBoard(xState, zState)\n",
    "            print(\"It's a draw!\")\n",
    "            break\n",
    "\n",
    "        turn = 1- turn\n",
    "        \n",
    "\n",
    "        "
   ]
  },
  {
   "cell_type": "code",
   "execution_count": null,
   "id": "5d2547cf-f4aa-4706-9fb8-3c29e26f5873",
   "metadata": {},
   "outputs": [],
   "source": []
  }
 ],
 "metadata": {
  "kernelspec": {
   "display_name": "Python 3 (ipykernel)",
   "language": "python",
   "name": "python3"
  },
  "language_info": {
   "codemirror_mode": {
    "name": "ipython",
    "version": 3
   },
   "file_extension": ".py",
   "mimetype": "text/x-python",
   "name": "python",
   "nbconvert_exporter": "python",
   "pygments_lexer": "ipython3",
   "version": "3.12.4"
  }
 },
 "nbformat": 4,
 "nbformat_minor": 5
}
