{
 "cells": [
  {
   "cell_type": "markdown",
   "id": "84505626-85cd-4f6e-99da-19ce2c19ae32",
   "metadata": {},
   "source": [
    "## Grocery managemnt system"
   ]
  },
  {
   "cell_type": "code",
   "execution_count": 1,
   "id": "3ac48eee-c0f6-49cd-90dd-baeede38257a",
   "metadata": {},
   "outputs": [
    {
     "name": "stdin",
     "output_type": "stream",
     "text": [
      "Enter an item to buy (q to quit):  apple\n",
      "Enter the price of apple: $ 868\n",
      "Enter an item to buy (q to quit):  q\n"
     ]
    },
    {
     "name": "stdout",
     "output_type": "stream",
     "text": [
      "----- YOUR CART -----\n",
      "apple \n",
      "Your total is: $868.00\n"
     ]
    }
   ],
   "source": [
    "def add_item(items, prices):\n",
    "    item = input(\"Enter an item to buy (q to quit): \").strip()\n",
    "    if item.lower() == \"q\":\n",
    "        display_cart(items, prices)\n",
    "    else:\n",
    "        price = float(input(f\"Enter the price of {item}: $\"))\n",
    "        items.append(item)\n",
    "        prices.append(price)\n",
    "        add_item(items, prices)\n",
    "\n",
    "def calculate_total(prices, index=0, total=0):\n",
    "    if index < len(prices):\n",
    "        total += prices[index]\n",
    "        return calculate_total(prices, index + 1, total)\n",
    "    return total\n",
    "\n",
    "def display_items(items, index=0):\n",
    "    if index < len(items):\n",
    "        print(items[index], end=\" \")\n",
    "        display_items(items, index + 1)\n",
    "\n",
    "def display_cart(items, prices):\n",
    "    print(\"----- YOUR CART -----\")\n",
    "    display_items(items)\n",
    "    total = calculate_total(prices)\n",
    "    print()\n",
    "    print(f\"Your total is: ${total:.2f}\")\n",
    "\n",
    "if __name__ == \"__main__\":\n",
    "    items = []\n",
    "    prices = []\n",
    "    add_item(items, prices)\n"
   ]
  },
  {
   "cell_type": "code",
   "execution_count": null,
   "id": "da403f88-9ea9-4bb1-a2ac-1df6754a20cc",
   "metadata": {},
   "outputs": [],
   "source": []
  },
  {
   "cell_type": "code",
   "execution_count": null,
   "id": "be3db50b-16b6-43c0-88ac-95a570ff7667",
   "metadata": {},
   "outputs": [],
   "source": []
  }
 ],
 "metadata": {
  "kernelspec": {
   "display_name": "Python 3 (ipykernel)",
   "language": "python",
   "name": "python3"
  },
  "language_info": {
   "codemirror_mode": {
    "name": "ipython",
    "version": 3
   },
   "file_extension": ".py",
   "mimetype": "text/x-python",
   "name": "python",
   "nbconvert_exporter": "python",
   "pygments_lexer": "ipython3",
   "version": "3.12.4"
  }
 },
 "nbformat": 4,
 "nbformat_minor": 5
}
